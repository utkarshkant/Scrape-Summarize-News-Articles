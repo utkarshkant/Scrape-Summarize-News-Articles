{
  "nbformat": 4,
  "nbformat_minor": 0,
  "metadata": {
    "colab": {
      "name": "Scrape and Summarize News Articles.ipynb",
      "provenance": []
    },
    "kernelspec": {
      "name": "python3",
      "display_name": "Python 3"
    }
  },
  "cells": [
    {
      "cell_type": "markdown",
      "metadata": {
        "id": "lvEvbmhYQmV6",
        "colab_type": "text"
      },
      "source": [
        "# Scrape and Summarise News Articles\n",
        "\n"
      ]
    },
    {
      "cell_type": "markdown",
      "metadata": {
        "id": "ViXqGHHnmlaw",
        "colab_type": "text"
      },
      "source": [
        "### Objective: This program scrapes and summarized news articles.\n",
        "We will use the following libraries for this program.\n",
        "- NLTK\n",
        "- newspaper"
      ]
    },
    {
      "cell_type": "markdown",
      "metadata": {
        "id": "nNwOOL3XQ_4N",
        "colab_type": "text"
      },
      "source": [
        "## 1. Import Dependencies"
      ]
    },
    {
      "cell_type": "code",
      "metadata": {
        "id": "q07hsLDHQipq",
        "colab_type": "code",
        "colab": {}
      },
      "source": [
        "# install NLTK & newspaper3k\n",
        "!pip install NLTK\n",
        "!pip install newspaper3k"
      ],
      "execution_count": 0,
      "outputs": []
    },
    {
      "cell_type": "code",
      "metadata": {
        "id": "tYvC_lWuQvXI",
        "colab_type": "code",
        "colab": {}
      },
      "source": [
        "# Import libraries\n",
        "import nltk\n",
        "from newspaper import Article"
      ],
      "execution_count": 0,
      "outputs": []
    },
    {
      "cell_type": "code",
      "metadata": {
        "id": "_KeJBlp6RXP3",
        "colab_type": "code",
        "colab": {}
      },
      "source": [
        "# get the article\n",
        "url = 'https://www.washingtonpost.com/technology/2019/07/17/you-downloaded-faceapp-heres-what-youve-just-done-your-privacy/'\n",
        "article = Article(url)"
      ],
      "execution_count": 0,
      "outputs": []
    },
    {
      "cell_type": "markdown",
      "metadata": {
        "id": "sLKs1RjhSkTG",
        "colab_type": "text"
      },
      "source": [
        "## 2. Data Processing - NLP"
      ]
    },
    {
      "cell_type": "code",
      "metadata": {
        "id": "JQhi0CV0R5t8",
        "colab_type": "code",
        "outputId": "eee269d6-6d0a-481c-a6da-ebcda4c96c2f",
        "colab": {
          "base_uri": "https://localhost:8080/",
          "height": 51
        }
      },
      "source": [
        "# do some NLP\n",
        "article.download()  # download the article\n",
        "article.parse()  # parse the article\n",
        "nltk.download('punkt')  # download punkt\n",
        "article.nlp()"
      ],
      "execution_count": 0,
      "outputs": [
        {
          "output_type": "stream",
          "text": [
            "[nltk_data] Downloading package punkt to /root/nltk_data...\n",
            "[nltk_data]   Package punkt is already up-to-date!\n"
          ],
          "name": "stdout"
        }
      ]
    },
    {
      "cell_type": "markdown",
      "metadata": {
        "id": "i9-c38UDSqHv",
        "colab_type": "text"
      },
      "source": [
        "## 3. Extract Data"
      ]
    },
    {
      "cell_type": "markdown",
      "metadata": {
        "id": "kZqMoTTtZkQ-",
        "colab_type": "text"
      },
      "source": [
        "### 3a. Title of the article"
      ]
    },
    {
      "cell_type": "code",
      "metadata": {
        "id": "5sJc9aK9YT-h",
        "colab_type": "code",
        "outputId": "7e899a9e-b0d1-4347-c7b5-604bb0ec4315",
        "colab": {
          "base_uri": "https://localhost:8080/",
          "height": 34
        }
      },
      "source": [
        "print(article.title)"
      ],
      "execution_count": 0,
      "outputs": [
        {
          "output_type": "stream",
          "text": [
            "You downloaded FaceApp. Here’s what you’ve just done to your privacy.\n"
          ],
          "name": "stdout"
        }
      ]
    },
    {
      "cell_type": "markdown",
      "metadata": {
        "id": "XRj9iqDVSuYM",
        "colab_type": "text"
      },
      "source": [
        "### 3b. Get author\n"
      ]
    },
    {
      "cell_type": "code",
      "metadata": {
        "id": "JC8paZuGSO9i",
        "colab_type": "code",
        "outputId": "a2ce307a-5c07-48a9-94a7-46a6fc8c61dd",
        "colab": {
          "base_uri": "https://localhost:8080/",
          "height": 68
        }
      },
      "source": [
        "# get the authors of the article\n",
        "article.authors"
      ],
      "execution_count": 0,
      "outputs": [
        {
          "output_type": "execute_result",
          "data": {
            "text/plain": [
              "['Geoffrey A. Fowler',\n",
              " 'Technology Columnist Based In San Francisco',\n",
              " 'Technology Columnist']"
            ]
          },
          "metadata": {
            "tags": []
          },
          "execution_count": 28
        }
      ]
    },
    {
      "cell_type": "markdown",
      "metadata": {
        "id": "nIkhHapVSxQB",
        "colab_type": "text"
      },
      "source": [
        "### 3c. Get publish date"
      ]
    },
    {
      "cell_type": "code",
      "metadata": {
        "id": "YmI3eL4gSTVz",
        "colab_type": "code",
        "outputId": "8bc68669-7294-4b2e-eee7-3e2c88c6ec18",
        "colab": {
          "base_uri": "https://localhost:8080/",
          "height": 51
        }
      },
      "source": [
        "# get the publish date\n",
        "print(article.publish_date)\n",
        "article.publish_date  # datetime dtype"
      ],
      "execution_count": 0,
      "outputs": [
        {
          "output_type": "stream",
          "text": [
            "2019-07-17 00:00:00\n"
          ],
          "name": "stdout"
        },
        {
          "output_type": "execute_result",
          "data": {
            "text/plain": [
              "datetime.datetime(2019, 7, 17, 0, 0)"
            ]
          },
          "metadata": {
            "tags": []
          },
          "execution_count": 29
        }
      ]
    },
    {
      "cell_type": "markdown",
      "metadata": {
        "id": "NjilIbU-TsDJ",
        "colab_type": "text"
      },
      "source": [
        "### 3d. Get the top image of the article"
      ]
    },
    {
      "cell_type": "code",
      "metadata": {
        "id": "GeIYKc0sS3dR",
        "colab_type": "code",
        "outputId": "d5d99182-101d-43de-f509-23f36f8d768f",
        "colab": {
          "base_uri": "https://localhost:8080/",
          "height": 34
        }
      },
      "source": [
        "# get the top image of the article\n",
        "article.top_image"
      ],
      "execution_count": 0,
      "outputs": [
        {
          "output_type": "execute_result",
          "data": {
            "text/plain": [
              "'https://www.washingtonpost.com/resizer/p4mCbRw3t6nAwEDs5hf3mY7-3Rk=/1440x0/smart/arc-anglerfish-washpost-prod-washpost.s3.amazonaws.com/public/J76RFFMEIVAJ3NTZ4YEXMMBJGQ.jpg'"
            ]
          },
          "metadata": {
            "tags": []
          },
          "execution_count": 30
        }
      ]
    },
    {
      "cell_type": "code",
      "metadata": {
        "id": "gI-vFc8gYb-r",
        "colab_type": "code",
        "outputId": "b762f135-689b-4e56-e807-b455785f27b0",
        "colab": {
          "base_uri": "https://localhost:8080/",
          "height": 34
        }
      },
      "source": [
        "print(article.top_img)"
      ],
      "execution_count": 0,
      "outputs": [
        {
          "output_type": "stream",
          "text": [
            "https://www.washingtonpost.com/resizer/p4mCbRw3t6nAwEDs5hf3mY7-3Rk=/1440x0/smart/arc-anglerfish-washpost-prod-washpost.s3.amazonaws.com/public/J76RFFMEIVAJ3NTZ4YEXMMBJGQ.jpg\n"
          ],
          "name": "stdout"
        }
      ]
    },
    {
      "cell_type": "markdown",
      "metadata": {
        "id": "NfTf1kA7Zy5D",
        "colab_type": "text"
      },
      "source": [
        "### 3e. Get all images from the article"
      ]
    },
    {
      "cell_type": "code",
      "metadata": {
        "id": "aqT3vN7MYyOt",
        "colab_type": "code",
        "outputId": "1a9dcfcf-b60e-470d-9601-185bc28b0d36",
        "colab": {
          "base_uri": "https://localhost:8080/",
          "height": 51
        }
      },
      "source": [
        "article.images"
      ],
      "execution_count": 0,
      "outputs": [
        {
          "output_type": "execute_result",
          "data": {
            "text/plain": [
              "{'https://www.washingtonpost.com/resizer/p4mCbRw3t6nAwEDs5hf3mY7-3Rk=/1440x0/smart/arc-anglerfish-washpost-prod-washpost.s3.amazonaws.com/public/J76RFFMEIVAJ3NTZ4YEXMMBJGQ.jpg',\n",
              " 'https://www.washingtonpost.com/wp-apps/imrs.php?src=https://s3.amazonaws.com/arc-authors/washpost/059a0168-736b-43cb-9473-20e8b42e454f.png&w=90&h=90'}"
            ]
          },
          "metadata": {
            "tags": []
          },
          "execution_count": 44
        }
      ]
    },
    {
      "cell_type": "code",
      "metadata": {
        "id": "ljz3ltOjY2eO",
        "colab_type": "code",
        "outputId": "ec8343b5-4fd4-472f-eed1-16817754dc30",
        "colab": {
          "base_uri": "https://localhost:8080/",
          "height": 51
        }
      },
      "source": [
        "article.imgs"
      ],
      "execution_count": 0,
      "outputs": [
        {
          "output_type": "execute_result",
          "data": {
            "text/plain": [
              "{'https://www.washingtonpost.com/resizer/p4mCbRw3t6nAwEDs5hf3mY7-3Rk=/1440x0/smart/arc-anglerfish-washpost-prod-washpost.s3.amazonaws.com/public/J76RFFMEIVAJ3NTZ4YEXMMBJGQ.jpg',\n",
              " 'https://www.washingtonpost.com/wp-apps/imrs.php?src=https://s3.amazonaws.com/arc-authors/washpost/059a0168-736b-43cb-9473-20e8b42e454f.png&w=90&h=90'}"
            ]
          },
          "metadata": {
            "tags": []
          },
          "execution_count": 47
        }
      ]
    },
    {
      "cell_type": "markdown",
      "metadata": {
        "id": "VAkItKnWTwg7",
        "colab_type": "text"
      },
      "source": [
        "### 3f. Extract the text of the article"
      ]
    },
    {
      "cell_type": "code",
      "metadata": {
        "id": "UE_GOYL3TSxp",
        "colab_type": "code",
        "outputId": "e8d55dec-0535-4b86-bfeb-e5f9ae7baccf",
        "colab": {
          "base_uri": "https://localhost:8080/",
          "height": 1000
        }
      },
      "source": [
        "# get the article text\n",
        "print(article.text)"
      ],
      "execution_count": 0,
      "outputs": [
        {
          "output_type": "stream",
          "text": [
            "I got some answers by running my own forensic analysis and talking to the CEO of the company that made the app. But the bigger lesson was how much app-makers and the stores run by Apple and Google leave us flying blind when it comes to privacy.\n",
            "\n",
            "AD\n",
            "\n",
            "AD\n",
            "\n",
            "I raised similar questions a few weeks ago when I ran an experiment to find out what my iPhone did while I slept at night. I found apps sending my personal information to all sorts of tracking companies I’d never heard of.\n",
            "\n",
            "So what about FaceApp? It was vetted by Apple’s App Store and Google’s Play Store, which even labeled it an “Editors’ Choice.” They both link to its privacy policy — which they know nobody reads.\n",
            "\n",
            "Looking under the hood of FaceApp with the tools from my iPhone test, I found it sharing information about my phone with Facebook and Google AdMob, which probably help it place ads and check the performance of its ads. The most unsettling part was how much data FaceApp was sending to its own servers, after which … who knows what happens. It’s not just your own face that FaceApp might gobble up — if you age friends or family members, their face gets uploaded, too.\n",
            "\n",
            "In an email exchange, FaceApp CEO Yaroslav Goncharov tried to clarify some of that.\n",
            "\n",
            "AD\n",
            "\n",
            "AD\n",
            "\n",
            "These five questions are basics we ought to know about any app or service that wants something as personal as our faces.\n",
            "\n",
            "1. What data do they take?\n",
            "\n",
            "FaceApp uploads and processes our photos in the cloud, Goncharov said, but the app will “only upload a photo selected by a user for editing.” The rest of your camera roll stays on your phone. You can also use FaceApp without giving it your name or email — and 99 percent of users do just that, he said.\n",
            "\n",
            "2. How long do they hold on my data?\n",
            "\n",
            "The app’s terms of service grant it a “perpetual” license to our photos. Goncharov said FaceApp deletes “most” of the photos from its servers after 48 hours.\n",
            "\n",
            "3. What are they doing with my data?\n",
            "\n",
            "Is FaceApp using our faces and the maps it makes of them for anything other than the express purpose of the app, such as running facial identification on us? “No,” Goncharov said. Legally, though, the app’s terms give it — and whoever might buy it or work with it in the future — the right to do whatever it wants, through an “irrevocable, nonexclusive, royalty-free, worldwide, fully-paid, transferrable sub-licensable license.” (Clear as mud?)\n",
            "\n",
            "AD\n",
            "\n",
            "AD\n",
            "\n",
            "4. Who has access to my data?\n",
            "\n",
            "Do government authorities in Russia have access to our photos? “No,” Goncharov said. FaceApp’s engineers are based in Russia, so our data is not transferred there. He said the company also doesn’t “sell or share any user data with any third parties” — aside, I pointed out, from what it shares with trackers from Facebook and AdMob. (Another exception: Users in Russia may have their data stored in Russia.)\n",
            "\n",
            "5. How can I delete my data?\n",
            "\n",
            "Just deleting the app won’t get rid of the photos FaceApp may have in the cloud. Goncharov said people can put in a request to delete all data from FaceApp’s servers, but the process is convoluted. “For the fastest processing, we recommend sending the requests from the FaceApp mobile app using ‘Settings->Support->Report a bug’ with the word ‘privacy’ in the subject line. We are working on the better UI [user interface] for that,” he said.\n",
            "\n",
            "AD\n",
            "\n",
            "AD\n",
            "\n",
            "Why not post this information to FaceApp’s website, beyond the legalese? “We are planning to make some improvements,” Goncharov said.\n",
            "\n",
            "Same question for the app stores run by Apple and Google. Those giant companies make money from a cut of upgrades you can purchase in the app. We’re literally paying them to read the privacy policies — and vet that companies such as FaceApp are telling the truth. Why not better help us understand right where we download what’s really going on? Neither company replied with an on-the-record comment.\n",
            "\n",
            "Much better to help us sort through all of this before millions of us upload our faces somewhere we might regret.\n",
            "\n",
            "Read more tech advice and analysis from Geoffrey A. Fowler:\n",
            "\n",
            "AD\n"
          ],
          "name": "stdout"
        }
      ]
    },
    {
      "cell_type": "markdown",
      "metadata": {
        "id": "zpsVQGjlUeY_",
        "colab_type": "text"
      },
      "source": [
        "### 3e. Summarize the article"
      ]
    },
    {
      "cell_type": "code",
      "metadata": {
        "id": "B0Cv1SAdTZT1",
        "colab_type": "code",
        "outputId": "a56c4079-eb1b-44ed-db44-8b366b951c62",
        "colab": {
          "base_uri": "https://localhost:8080/",
          "height": 102
        }
      },
      "source": [
        "# get a summary of the article\n",
        "print(article.summary)"
      ],
      "execution_count": 0,
      "outputs": [
        {
          "output_type": "stream",
          "text": [
            "The most unsettling part was how much data FaceApp was sending to its own servers, after which … who knows what happens.\n",
            "Goncharov said FaceApp deletes “most” of the photos from its servers after 48 hours.\n",
            "Just deleting the app won’t get rid of the photos FaceApp may have in the cloud.\n",
            "“For the fastest processing, we recommend sending the requests from the FaceApp mobile app using ‘Settings->Support->Report a bug’ with the word ‘privacy’ in the subject line.\n",
            "We’re literally paying them to read the privacy policies — and vet that companies such as FaceApp are telling the truth.\n"
          ],
          "name": "stdout"
        }
      ]
    },
    {
      "cell_type": "markdown",
      "metadata": {
        "id": "3ruzB7moaFMY",
        "colab_type": "text"
      },
      "source": [
        "### 3f. Get article URL & source URL"
      ]
    },
    {
      "cell_type": "markdown",
      "metadata": {
        "id": "pihZMA7sbJzn",
        "colab_type": "text"
      },
      "source": [
        "#### Article URL"
      ]
    },
    {
      "cell_type": "code",
      "metadata": {
        "id": "T1FYipv5YknL",
        "colab_type": "code",
        "outputId": "54a846cd-f6b6-4c73-cee5-a6120502032a",
        "colab": {
          "base_uri": "https://localhost:8080/",
          "height": 34
        }
      },
      "source": [
        "print(article.url)"
      ],
      "execution_count": 0,
      "outputs": [
        {
          "output_type": "stream",
          "text": [
            "https://www.washingtonpost.com/technology/2019/07/17/you-downloaded-faceapp-heres-what-youve-just-done-your-privacy/\n"
          ],
          "name": "stdout"
        }
      ]
    },
    {
      "cell_type": "markdown",
      "metadata": {
        "id": "z21VqdL3bLvq",
        "colab_type": "text"
      },
      "source": [
        "#### Wesbite or Source URL"
      ]
    },
    {
      "cell_type": "code",
      "metadata": {
        "id": "f366aP8kZQk0",
        "colab_type": "code",
        "outputId": "24f39181-1ed3-4bdc-f19a-f85536555243",
        "colab": {
          "base_uri": "https://localhost:8080/",
          "height": 34
        }
      },
      "source": [
        "print(article.source_url)"
      ],
      "execution_count": 0,
      "outputs": [
        {
          "output_type": "stream",
          "text": [
            "https://www.washingtonpost.com\n"
          ],
          "name": "stdout"
        }
      ]
    },
    {
      "cell_type": "markdown",
      "metadata": {
        "id": "uCXbV6OdaXen",
        "colab_type": "text"
      },
      "source": [
        "### 3g. Get artcile's meta information"
      ]
    },
    {
      "cell_type": "markdown",
      "metadata": {
        "id": "G3PpwZWXbCgP",
        "colab_type": "text"
      },
      "source": [
        "#### Meta Data"
      ]
    },
    {
      "cell_type": "code",
      "metadata": {
        "id": "EGjtP8kOZARj",
        "colab_type": "code",
        "outputId": "2f9143e9-ed1d-4461-d95b-ec0c6938c981",
        "colab": {
          "base_uri": "https://localhost:8080/",
          "height": 255
        }
      },
      "source": [
        "article.meta_data"
      ],
      "execution_count": 0,
      "outputs": [
        {
          "output_type": "execute_result",
          "data": {
            "text/plain": [
              "defaultdict(dict,\n",
              "            {'article': {'content_tier': 'metered', 'opinion': 'false'},\n",
              "             'description': '5 questions we all should have asked before we downloaded the latest viral app that ages your face',\n",
              "             'og': {'description': '5 questions we all should have asked before we downloaded the latest viral app that ages your face',\n",
              "              'image': 'https://www.washingtonpost.com/resizer/p4mCbRw3t6nAwEDs5hf3mY7-3Rk=/1440x0/smart/arc-anglerfish-washpost-prod-washpost.s3.amazonaws.com/public/J76RFFMEIVAJ3NTZ4YEXMMBJGQ.jpg',\n",
              "              'site_name': 'Washington Post',\n",
              "              'title': 'Perspective | You downloaded FaceApp. Here’s what you’ve just done to your privacy.',\n",
              "              'type': 'article',\n",
              "              'url': 'https://www.washingtonpost.com/technology/2019/07/17/you-downloaded-faceapp-heres-what-youve-just-done-your-privacy/'},\n",
              "             'twitter': {'card': 'summary_large_image',\n",
              "              'description': '5 questions we all should have asked before we downloaded the latest viral app that ages your face',\n",
              "              'site': '@WashingtonPost',\n",
              "              'title': 'Perspective | You downloaded FaceApp. Here’s what you’ve just done to your privacy.'},\n",
              "             'viewport': 'width=device-width, initial-scale=1'})"
            ]
          },
          "metadata": {
            "tags": []
          },
          "execution_count": 52
        }
      ]
    },
    {
      "cell_type": "markdown",
      "metadata": {
        "id": "6VCM-gp0bEux",
        "colab_type": "text"
      },
      "source": [
        "#### Meta Description"
      ]
    },
    {
      "cell_type": "code",
      "metadata": {
        "id": "Ex4saWaEZFrk",
        "colab_type": "code",
        "outputId": "a0a42a39-a65c-4026-8e69-7713beb36102",
        "colab": {
          "base_uri": "https://localhost:8080/",
          "height": 34
        }
      },
      "source": [
        "article.meta_description\n"
      ],
      "execution_count": 0,
      "outputs": [
        {
          "output_type": "execute_result",
          "data": {
            "text/plain": [
              "'5 questions we all should have asked before we downloaded the latest viral app that ages your face'"
            ]
          },
          "metadata": {
            "tags": []
          },
          "execution_count": 53
        }
      ]
    },
    {
      "cell_type": "markdown",
      "metadata": {
        "id": "B_9iqpnybG2E",
        "colab_type": "text"
      },
      "source": [
        "#### Favicon"
      ]
    },
    {
      "cell_type": "code",
      "metadata": {
        "id": "b4FBAcP0ZHMY",
        "colab_type": "code",
        "outputId": "3144cc08-87c9-4218-b2e9-e97573bc802e",
        "colab": {
          "base_uri": "https://localhost:8080/",
          "height": 34
        }
      },
      "source": [
        "article.meta_favicon\n"
      ],
      "execution_count": 0,
      "outputs": [
        {
          "output_type": "execute_result",
          "data": {
            "text/plain": [
              "'/pf/resources/images/favicon.ico?d=173'"
            ]
          },
          "metadata": {
            "tags": []
          },
          "execution_count": 54
        }
      ]
    },
    {
      "cell_type": "markdown",
      "metadata": {
        "id": "kaLV0tD9bRWe",
        "colab_type": "text"
      },
      "source": [
        "#### Canonical Link"
      ]
    },
    {
      "cell_type": "code",
      "metadata": {
        "id": "LhWce5cmYqsl",
        "colab_type": "code",
        "outputId": "9ebdd97e-8e56-42fc-f15c-f2ef86854cdc",
        "colab": {
          "base_uri": "https://localhost:8080/",
          "height": 34
        }
      },
      "source": [
        "print(article.canonical_link)"
      ],
      "execution_count": 0,
      "outputs": [
        {
          "output_type": "stream",
          "text": [
            "https://www.washingtonpost.com/technology/2019/07/17/you-downloaded-faceapp-heres-what-youve-just-done-your-privacy/\n"
          ],
          "name": "stdout"
        }
      ]
    },
    {
      "cell_type": "markdown",
      "metadata": {
        "id": "xtUWt6wqbTbz",
        "colab_type": "text"
      },
      "source": [
        "#### Meta Image"
      ]
    },
    {
      "cell_type": "code",
      "metadata": {
        "id": "0WA4UWW5ZJRS",
        "colab_type": "code",
        "outputId": "0d9d04e0-330f-40b8-9aa8-267f0d846d58",
        "colab": {
          "base_uri": "https://localhost:8080/",
          "height": 34
        }
      },
      "source": [
        "article.meta_img\n"
      ],
      "execution_count": 0,
      "outputs": [
        {
          "output_type": "execute_result",
          "data": {
            "text/plain": [
              "'https://www.washingtonpost.com/resizer/p4mCbRw3t6nAwEDs5hf3mY7-3Rk=/1440x0/smart/arc-anglerfish-washpost-prod-washpost.s3.amazonaws.com/public/J76RFFMEIVAJ3NTZ4YEXMMBJGQ.jpg'"
            ]
          },
          "metadata": {
            "tags": []
          },
          "execution_count": 55
        }
      ]
    },
    {
      "cell_type": "markdown",
      "metadata": {
        "id": "7D_wDMbxbVDI",
        "colab_type": "text"
      },
      "source": [
        "#### Meta Language"
      ]
    },
    {
      "cell_type": "code",
      "metadata": {
        "id": "MV38xoz1ZNC6",
        "colab_type": "code",
        "outputId": "6a93c013-6203-4269-88a2-db654c968b19",
        "colab": {
          "base_uri": "https://localhost:8080/",
          "height": 34
        }
      },
      "source": [
        "article.meta_lang\n"
      ],
      "execution_count": 0,
      "outputs": [
        {
          "output_type": "execute_result",
          "data": {
            "text/plain": [
              "'en'"
            ]
          },
          "metadata": {
            "tags": []
          },
          "execution_count": 57
        }
      ]
    },
    {
      "cell_type": "markdown",
      "metadata": {
        "id": "Ts_Vj0tyVbAf",
        "colab_type": "text"
      },
      "source": [
        "## 4. Create a UDF to get complete article summary"
      ]
    },
    {
      "cell_type": "markdown",
      "metadata": {
        "id": "knQZoQ4mky1b",
        "colab_type": "text"
      },
      "source": [
        "#### Define UDF"
      ]
    },
    {
      "cell_type": "code",
      "metadata": {
        "id": "FXzbbFwyT5Ik",
        "colab_type": "code",
        "colab": {}
      },
      "source": [
        "# UDF to get article summary\n",
        "def get_news_article_summary(url):\n",
        "  # # Import libraries\n",
        "  # import nltk\n",
        "  # from newspaper import Article\n",
        "\n",
        "  # define Article object from url of the news webpage\n",
        "  article = Article(url)\n",
        "  \n",
        "  # process with NLP\n",
        "  print(\"[INFO] Processing the article . . .\")\n",
        "  article.download()  # download article\n",
        "  article.parse()  # parse article\n",
        "  # nltk.download('punkt')  # download punkt\n",
        "  article.nlp()  # process the article with NLP\n",
        "  print(\"[INFO] Article processed, printing article information . . .\")\n",
        "\n",
        "  # display article summary\n",
        "  print(\"\\nTitle :\")  # get article's title\n",
        "  print(article.title)\n",
        "  print(\"\\nAuthor :\")  # get author of the article\n",
        "  print(article.authors)\n",
        "  print(\"\\nPublished on :\")  # get publish date of the article\n",
        "  print(article.publish_date)\n",
        "  print(\"\\nTop Image :\")  # get top image of the article\n",
        "  print(article.top_image)\n",
        "  print(\"\\nAll Images :\")  # get all images from the article \n",
        "  for i in article.images: print(i)\n",
        "\n",
        "  print('- - - ')\n",
        "  print(\"\\nText Content :\")  # get text content\n",
        "  print(article.text)\n",
        "\n",
        "  print('- - - ')\n",
        "  print(\"\\nSummary :\")  # article summary\n",
        "  print(article.summary)\n",
        "  \n",
        "  print('- - - ')\n",
        "  print(\"\\nArticle URL :\")  # URL of the article\n",
        "  print(article.url)\n",
        "  print(\"\\nWebsite URL :\")  # URL of the website\n",
        "  print(article.source_url)\n",
        "\n",
        "  print('- - - ')\n",
        "  print(\"\\nArticle's Meta Information :\")\n",
        "  print(\"\\nMeta data    \t  :\")  # meta info\n",
        "  print(article.meta_data)\n",
        "  print(\"\\nMeta Description :\")  # meta description\n",
        "  print(article.meta_description)\n",
        "  print(\"\\nMeta Favicon :\")  # meta favicon\n",
        "  print(article.meta_favicon)\n",
        "  print(\"\\nCanonical Link :\")  # Canonical Link\n",
        "  print(article.canonical_link)\n",
        "  print(\"\\nMeta Image :\")  # meta image\n",
        "  print(article.meta_img)\n",
        "  print(\"\\nMeta Language :\")  # meta language\n",
        "  print(article.meta_lang)"
      ],
      "execution_count": 0,
      "outputs": []
    },
    {
      "cell_type": "markdown",
      "metadata": {
        "id": "vHThipKoklKk",
        "colab_type": "text"
      },
      "source": [
        "#### Define URL"
      ]
    },
    {
      "cell_type": "code",
      "metadata": {
        "id": "KUhizJIeigDl",
        "colab_type": "code",
        "colab": {}
      },
      "source": [
        "url = 'https://www.hindustantimes.com/india-news/army-chief-bipin-rawat-set-to-step-down-tomorrow-named-first-chief-of-defence-staff/story-sdHxA2EVpjYkEQx0iczijN.html'\n",
        "# article = Article(url)"
      ],
      "execution_count": 0,
      "outputs": []
    },
    {
      "cell_type": "markdown",
      "metadata": {
        "id": "E7SUpuENkqTc",
        "colab_type": "text"
      },
      "source": [
        "#### Feed URL to to the UDF"
      ]
    },
    {
      "cell_type": "code",
      "metadata": {
        "id": "OBXLlnzailpO",
        "colab_type": "code",
        "outputId": "06314004-ed94-4aee-83f4-9f7224a4fb84",
        "colab": {
          "base_uri": "https://localhost:8080/",
          "height": 1000
        }
      },
      "source": [
        "# get article summary from UDF\n",
        "get_news_article_summary(url)"
      ],
      "execution_count": 0,
      "outputs": [
        {
          "output_type": "stream",
          "text": [
            "[INFO] Processing the article . . .\n",
            "[INFO] Article processed, printing article information . . .\n",
            "\n",
            "Title :\n",
            "Army Chief Gen Bipin Rawat appointed first Chief of Defence Staff\n",
            "\n",
            "Author :\n",
            "['Ht Correspondent']\n",
            "\n",
            "Published on :\n",
            "2020-12-30 21:33:31+05:30\n",
            "\n",
            "Top Image :\n",
            "https://www.hindustantimes.com/rf/image_size_960x540/HT/p2/2019/12/30/Pictures/atal-bujal-tunnel-yojana_54bb5e34-2ae7-11ea-b337-29936d1a9c86.jpg\n",
            "\n",
            "All Images :\n",
            "https://www.hindustantimes.com/rf/image_size_444x250/HT/p2/2019/12/31/Pictures/_0bad45e2-2b35-11ea-96cb-8d9426408fe0.JPG\n",
            "https://www.hindustantimes.com/images/app-images/ht/default_author.png\n",
            "https://www.hindustantimes.com/rf/image_size_960x540/HT/p2/2019/12/30/Pictures/atal-bujal-tunnel-yojana_54bb5e34-2ae7-11ea-b337-29936d1a9c86.jpg\n",
            "https://www.hindustantimes.com/rf/image_size_444x250/HT/p2/2019/12/31/Pictures/_09cd57b6-2b3b-11ea-96cb-8d9426408fe0.png\n",
            "https://www.hindustantimes.com/res/img/app-images/HomePageV1/zero.gif\n",
            "https://www.hindustantimes.com/rf/image_size_90x90/HT/p2/2019/12/31/Pictures/_812178ea-2b6a-11ea-96cb-8d9426408fe0.jpg\n",
            "https://www.hindustantimes.com/images/app-images/2019/4/authors/logo-ht.png\n",
            "https://sb.scorecardresearch.com/p?c1=2&c2=6035286&cv=2.0&cj=1\n",
            "https://www.hindustantimes.com/rf/image_size_444x250/HT/p2/2019/12/30/Pictures/prime-minister-narendra-maidan-addresses-rally-ramlia_4de0909e-2afa-11ea-b337-29936d1a9c86.jpg\n",
            "https://www.hindustantimes.com/rf/image_size_90x90/HT/p2/2019/12/31/Pictures/_36914a26-2b51-11ea-96cb-8d9426408fe0.jpg\n",
            "https://www.hindustantimes.com/images/app-images/2019/4/authors/source_weather-cm.png\n",
            "https://www.hindustantimes.com/rf/image_size_444x250/HT/p2/2019/12/30/Pictures/protest-against-caa-and-nrc_3bc1592c-2afd-11ea-b337-29936d1a9c86.JPG\n",
            "https://www.hindustantimes.com/rf/image_size_444x250/HT/p2/2019/12/30/Pictures/_fffbec10-2af0-11ea-96cb-8d9426408fe0.jpg\n",
            "https://q.quora.com/_/ad/18d72aacafe84701a5b30e418a8a6611/pixel?tag=ViewContent&noscript=1\n",
            "https://www.hindustantimes.com/rf/image_size_444x250/HT/p2/2019/12/31/Pictures/_7b8e321c-2b68-11ea-8266-2aa83479d6f9.png\n",
            "https://www.hindustantimes.com/rf/image_size_90x90/HT/p2/2019/12/31/Pictures/_4e179122-2b4d-11ea-96cb-8d9426408fe0.png\n",
            "https://www.hindustantimes.com/res/images/ht-copy.png\n",
            "https://www.hindustantimes.com/rf/image_size_90x90/HT/p2/2019/12/31/Pictures/kashmir-strike-on-world-human-rights-day_208eceea-2b53-11ea-96cb-8d9426408fe0.jpg\n",
            "https://www.hindustantimes.com/images/app-images/ht/htlogo.png\n",
            "https://www.hindustantimes.com/rf/image_size_90x90/HT/p2/2019/12/30/Pictures/atal-bujal-tunnel-yojana_4eafcb38-2ae7-11ea-b337-29936d1a9c86.jpg\n",
            "https://www.hindustantimes.com/rf/image_size_444x250/HT/p2/2019/12/30/Pictures/delhi-winter-weather-cold-wave-fog_f2c87c80-2ac7-11ea-96cb-8d9426408fe0.jpg\n",
            "https://www.hindustantimes.com/rf/image_size_444x250/HT/p2/2019/12/31/Pictures/_82962b60-2b53-11ea-96cb-8d9426408fe0.jpg\n",
            "- - - \n",
            "\n",
            "Text Content :\n",
            "india\n",
            "\n",
            "Updated: Dec 30, 2019 21:46 IST\n",
            "\n",
            "Army chief General Bipin Rawat has been appointed India’s first Chief of Defence Staff (CDS), according to a government order issued late on Monday evening.\n",
            "\n",
            "General Rawat’s elevation to the top military post - he will head the department of military affairs that is being set up under the defence ministry - had been widely expected ever since Prime Minister Narendra Modi announced the decision to create the top military post from the ramparts of the Red Fort in August this year.\n",
            "\n",
            "The order said, “the government has decided to appoint General Bipin Rawat, PVSM, UYSM, AVSM, YSM, SM, VSM, ADC as the Chief of Defence Staff (CDS) with effect from 31.12.2019 and until further orders.”\n",
            "\n",
            "In his new role that begins in the new year, Gen Rawat will not exercise any military command but has been tasked to strive to bring about jointness in operation, logistics, transport, training, support services, communications, repairs and maintenance of the three services.\n",
            "\n",
            "General Rawat would also act as the principal military adviser to defence minister Rajnath Singh on all tri-services matters and focus on promoting jointness in procurement, training and staffing.\n",
            "\n",
            "The CDS will also function as the permanent chairman of the Chiefs of Staff Committee (COSC), a post that was held in rotation by the senior-most service chief.\n",
            "\n",
            "The recommendation to appoint the CDS, a major reform in India’s higher defence management, was first made by the Kargil Review Committee that felt it was necessary to provide a single-point professional military advice to the political leadership.\n",
            "\n",
            "The Group of Ministers (GoM) set up after the Kargil conflict had also strongly recommended the creation of a CDS in 2001 but successive governments were unable to build consensus around a CDS.\n",
            "- - - \n",
            "\n",
            "Summary :\n",
            "indiaUpdated: Dec 30, 2019 21:46 ISTArmy chief General Bipin Rawat has been appointed India’s first Chief of Defence Staff (CDS), according to a government order issued late on Monday evening.\n",
            "General Rawat’s elevation to the top military post - he will head the department of military affairs that is being set up under the defence ministry - had been widely expected ever since Prime Minister Narendra Modi announced the decision to create the top military post from the ramparts of the Red Fort in August this year.\n",
            "General Rawat would also act as the principal military adviser to defence minister Rajnath Singh on all tri-services matters and focus on promoting jointness in procurement, training and staffing.\n",
            "The CDS will also function as the permanent chairman of the Chiefs of Staff Committee (COSC), a post that was held in rotation by the senior-most service chief.\n",
            "The Group of Ministers (GoM) set up after the Kargil conflict had also strongly recommended the creation of a CDS in 2001 but successive governments were unable to build consensus around a CDS.\n",
            "- - - \n",
            "\n",
            "Article URL :\n",
            "https://www.hindustantimes.com/india-news/army-chief-bipin-rawat-set-to-step-down-tomorrow-named-first-chief-of-defence-staff/story-sdHxA2EVpjYkEQx0iczijN.html\n",
            "\n",
            "Website URL :\n",
            "https://www.hindustantimes.com\n",
            "- - - \n",
            "\n",
            "Article's Meta Information :\n",
            "\n",
            "Meta data    \t  :\n",
            "defaultdict(<class 'dict'>, {'google-site-verification': 'U3xIlrlaetYrU7V1lNSFthKZzBFJ_S6qVzdn_gpMNjc', 'keywords': 'bipin rawat, chief of defence staff, general rawat, CDS, India CDS', 'news_keywords': 'bipin rawat, chief of defence staff, general rawat, CDS, India CDS', 'description': 'India’s first Chief of Defence Staff (CDS) will be a four-star officer responsible for heading the department of military powers in the defence ministry.', 'og': {'locale': 'en_us', 'type': 'article', 'title': 'Army Chief Gen Bipin Rawat appointed first Chief of Defence Staff', 'description': 'India’s first Chief of Defence Staff (CDS) will be a four-star officer responsible for heading the department of military powers in the defence ministry.', 'url': 'https://www.hindustantimes.com/india-news/army-chief-bipin-rawat-set-to-step-down-tomorrow-named-first-chief-of-defence-staff/story-sdHxA2EVpjYkEQx0iczijN.html', 'image': {'identifier': 'https://www.hindustantimes.com/rf/image_size_960x540/HT/p2/2019/12/30/Pictures/atal-bujal-tunnel-yojana_54bb5e34-2ae7-11ea-b337-29936d1a9c86.jpg', 'width': 960, 'height': 640}, 'site_name': 'Hindustan Times'}, 'tweetmeme-title': 'Army Chief Gen Bipin Rawat appointed first Chief of Defence Staff', 'twitter': {'card': 'summary_large_image', 'site': '@httweets', 'creator': '@httweets', 'url': 'https://www.hindustantimes.com/india-news/army-chief-bipin-rawat-set-to-step-down-tomorrow-named-first-chief-of-defence-staff/story-sdHxA2EVpjYkEQx0iczijN.html', 'title': 'Army Chief Gen Bipin Rawat appointed first Chief of Defence Staff - india news - Hindustan Times', 'description': 'India’s first Chief of Defence Staff (CDS) will be a four-star officer responsible for heading the department of military powers in the defence ministry.', 'image': 'https://www.hindustantimes.com/rf/image_size_960x540/HT/p2/2019/12/30/Pictures/atal-bujal-tunnel-yojana_54bb5e34-2ae7-11ea-b337-29936d1a9c86.jpg'}, 'article': {'published_time': '2020-12-30T21:33:31+05:30', 'modified_time': '2020-12-30T21:46:45+05:30'}, 'section': 'india-news', 'storyid': 'bdfc2cea-2ae5-11ea-b337-29936d1a9c86', 'last-updated': '2020-12-30T21:46:45+05:30', 'fb': {'pages': 111445058579, 'app_id': 672336366190593, 'admins': 100006810078735}, 'Last-Modified': '2020-12-30T21:46:45+05:30', 'eomportal-instanceid': 'S160.21', 'eomportal-id': 34510, 'eomportal-loid': '1.21.2996493169', 'eomportal-uuid': 'bdfc2cea-2ae5-11ea-b337-29936d1a9c86', 'eomportal-lastUpdate': 'Tue Dec 31 06:48:46 IST 2019', 'theme-color': '#ffffff', 'viewport': 'width=device-width, initial-scale=1'})\n",
            "\n",
            "Meta Description :\n",
            "India’s first Chief of Defence Staff (CDS) will be a four-star officer responsible for heading the department of military powers in the defence ministry.\n",
            "\n",
            "Meta Favicon :\n",
            "/images/app-images/2019/2/icon-57x57.png\n",
            "\n",
            "Canonical Link :\n",
            "https://www.hindustantimes.com/india-news/army-chief-bipin-rawat-set-to-step-down-tomorrow-named-first-chief-of-defence-staff/story-sdHxA2EVpjYkEQx0iczijN.html\n",
            "\n",
            "Meta Image :\n",
            "https://www.hindustantimes.com/rf/image_size_960x540/HT/p2/2019/12/30/Pictures/atal-bujal-tunnel-yojana_54bb5e34-2ae7-11ea-b337-29936d1a9c86.jpg\n",
            "\n",
            "Meta Language :\n",
            "en\n"
          ],
          "name": "stdout"
        }
      ]
    },
    {
      "cell_type": "code",
      "metadata": {
        "id": "11eUES2EioL6",
        "colab_type": "code",
        "colab": {}
      },
      "source": [
        ""
      ],
      "execution_count": 0,
      "outputs": []
    }
  ]
}